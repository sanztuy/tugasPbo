{
 "cells": [
  {
   "cell_type": "markdown",
   "metadata": {},
   "source": [
    "> **Requirement**: Baca reqirement yang ada di Sub Bab 10 (day_10)"
   ]
  },
  {
   "cell_type": "code",
   "execution_count": 1,
   "metadata": {},
   "outputs": [
    {
     "data": {
      "application/vnd.jupyter.widget-view+json": {
       "model_id": "4222c9b5-cacb-495f-b126-0aa92c7b8f59",
       "version_major": 2,
       "version_minor": 0
      },
      "method": "display_data"
     },
     "metadata": {},
     "output_type": "display_data"
    }
   ],
   "source": [
    "//Load Library\n",
    "%classpath add jar libs/*"
   ]
  },
  {
   "cell_type": "code",
   "execution_count": 2,
   "metadata": {},
   "outputs": [
    {
     "data": {
      "text/html": [
       "<html></html>"
      ]
     },
     "execution_count": 2,
     "metadata": {},
     "output_type": "execute_result"
    }
   ],
   "source": [
    "//Render HTML\n",
    "%%html"
   ]
  },
  {
   "cell_type": "markdown",
   "metadata": {},
   "source": [
    "# 13. Analisis Data Sederhana\n",
    "Pada Chapter ini kita akan mempelajari:\n",
    "* Analisis Deskriptif\n",
    "* Analisis Deskriptif Menggunakan Nilai Statistik\n",
    "* Kesimpulan Analisis Deskriptif"
   ]
  },
  {
   "cell_type": "markdown",
   "metadata": {},
   "source": [
    ">  Pada bab ini kita menggunakan **Maven** yang dibutuhkan untuk memasang kompunen tablesaw-beakerx yang digunakan untuk menampilkan grafik, library tersebut kita unduh langsung dari [mvnrepository.com](https://mvnrepository.com). \n",
    "\n",
    "> **Maven** adalah salah satu build tool yang sering digunakan dalam proyek aplikasi pengembnagan sofware. Tidak hanya digunakan untuk Java, Maven juga dapat digunakan untuk mengelola project dengan bahasa Kotlin, C#, Ruby, Scala, dan sebagainya. Terkait maven anda bisa pelajari lebih jauh di [maven.apache.org](https://maven.apache.org). Dengan Maven kita bisa melakukan:\n",
    "* Kompilasi source code dengan mudah;\n",
    "* Melakukan Testing;\n",
    "* Menginstal library yang dibutuhkan. \n"
   ]
  },
  {
   "cell_type": "code",
   "execution_count": 3,
   "metadata": {},
   "outputs": [
    {
     "data": {
      "application/vnd.jupyter.widget-view+json": {
       "model_id": "",
       "version_major": 2,
       "version_minor": 0
      },
      "method": "display_data"
     },
     "metadata": {},
     "output_type": "display_data"
    },
    {
     "data": {
      "application/vnd.jupyter.widget-view+json": {
       "model_id": "ef2194cd-59f7-44a3-a321-79fe85287650",
       "version_major": 2,
       "version_minor": 0
      },
      "method": "display_data"
     },
     "metadata": {},
     "output_type": "display_data"
    }
   ],
   "source": [
    "//Menginstal library dengan maven\n",
    "%%classpath add mvn\n",
    "tech.tablesaw tablesaw-beakerx 0.37.0\n",
    "tech.tablesaw tablesaw-jsplot 0.37.0\n",
    "tech.tablesaw tablesaw-plot 0.24.4"
   ]
  },
  {
   "cell_type": "markdown",
   "metadata": {},
   "source": [
    "## Analisis Deskriptif pada variable data_kepuasan\n",
    "Analisis Deskriptif adalah proses analisa yang digunakan untuk membangun sebuah hipotesis.\n",
    "Pada bab ini, analisis deskriptif akan dilakukan pada data sebelumnya dengan tujuan untuk mendapatkan informasi berikut:\n",
    "* Bagaimana profil pelanggan.\n",
    "* Bagaimana gambaran produk.\n",
    "* Membangun hipotesis\n",
    "\n",
    "## Analisis Deskriptif Menggunakan Nilai Statistik\n",
    "Untuk melakukan analisis deskriptif setiap variabel pada JAVA, kita dapat menggunakan function berikut.\n",
    "``` javascript\n",
    "DataFrame.summarize().apply()\n",
    "```\n",
    "Function *summarize()* akan menampilkan kesimpulan pada variabel masing-masing. Untuk variabel bertipe character akan menampilkan panjang datanya. Variabel bertipe factor akan menampilkan jumlah data pada masing-masing kelas. Sedangkan untuk variabel bertipe numerik akan memunculkan nilai minimum,sum , mean, dan maximum.\n",
    "Pengertian dari masing-masing istilah itu adalah sebagai berikut :\n",
    "* **Minimum** adalah nilai observasi terkecil.\n",
    "* **Median** (Q2) atau nilai pertengahan.\n",
    "* **Maksimum** adalah nilai observasi terbesar.\n",
    "\n",
    "## Analisis Deskriptif Menggunakan Visualisasi\n",
    "Setelah melakukan analisis deskriptif sebelumnya, agar lebih jelas bagaimana gambaran/sebaran dari data maka kita perlu membuat grafik dari masing-masing variabel. Grafik disini juga dapat sebagai analisis eskplorasi yang akan membantu dalam membangun hipotesis.\n",
    "Untuk mendapatkan visualisasi dasar dari setiap variabel pada R bisa menggunakan perintah berikut\n",
    "* plot(dataframe)\n",
    "* hist(dataframe)\n",
    "Berikut penjelasan function diatas:\n",
    "* **plot** digunakan untuk variabel bertipe Factor - function ini menghasilkan grafik Bar Plot.\n",
    "* **hist** untuk variabel bertipe numerik seperti int - function ini menghasilkan grafik Histogram.\n",
    "\n",
    "> **Tujuan dari plot dan hist adalah untuk mengetahui sebaran data.**\n",
    "\n",
    "#### Plot \n",
    "\n",
    "Berikut ini adalah melakukan visualisasi dengan plot grafik dari data frame data kepuasan\n",
    "\n",
    "**Listing 13-2.** Visualiasasi data dengan plot\n",
    "``` javascript\n",
    "import static tech.tablesaw.aggregate.AggregateFunctions.*;\n",
    "\n",
    "import tech.tablesaw.api.*;\n",
    "import tech.tablesaw.io.csv.*;\n",
    "\n",
    "import tech.tablesaw.plotly.Plot;\n",
    "import tech.tablesaw.plotly.api.HorizontalBarPlot;\n",
    "import tech.tablesaw.plotly.api.VerticalBarPlot;\n",
    "import tech.tablesaw.plotly.components.Figure;\n",
    "import tech.tablesaw.plotly.components.Layout;\n",
    "import tech.tablesaw.plotly.components.Marker;\n",
    "import tech.tablesaw.plotly.traces.BarTrace;\n",
    "import tech.tablesaw.plotly.traces.Trace;\n",
    "\n",
    "// display Tablesaw tables with BeakerX table display widget\n",
    "tech.tablesaw.beakerx.TablesawDisplayer.register();\n",
    "\n",
    "//init objek\n",
    "Table  dfData = Table.read().csv(\"datasets/data_kepuasan.csv\");\n",
    "\n",
    "Table summaryPendapatan =  dfData.summarize(\"Pendapatan\", sum).by(\"Jenis Kelamin\");;\n",
    "\n",
    "Table sumTotal =  dfData.summarize(\"Total\", sum).by(\"Produk\");\n",
    "\n",
    "System.out.println(summaryPendapatan.print());\n",
    "\n",
    "System.out.println(sumTotal.print());\n",
    "\n",
    "//Ploting grafik secara vertical \n",
    "Plot.show(\n",
    "        VerticalBarPlot.create(\n",
    "            \"Pendapatan\",\n",
    "            summaryPendapatan,\n",
    "            \"Jenis Kelamin\",\n",
    "            Layout.BarMode.GROUP,\n",
    "            \"Sum [Pendapatan]\"));\n",
    "\n",
    "//Ploting grafik secara horisontal \n",
    "  Plot.show(\n",
    "        HorizontalBarPlot.create(\n",
    "            \"Produk Terjual\",\n",
    "            sumTotal,\n",
    "            \"Produk\",\n",
    "            Layout.BarMode.STACK,\n",
    "            \"Sum [Total]\"));\n",
    "```\n",
    "#### Histogram\n",
    "\n",
    "Berikut ini adalah melakukan visualisasi dengan histogram grafik dari data frame data kepuasan\n",
    "\n",
    "**Listing 13-1.** Visualiasasi data dengan Histogram\n",
    "``` javascript\n",
    "import tech.tablesaw.api.Table;\n",
    "import tech.tablesaw.plotly.Plot;\n",
    "import tech.tablesaw.plotly.components.Figure;\n",
    "import tech.tablesaw.plotly.components.Layout;\n",
    "import tech.tablesaw.plotly.traces.HistogramTrace;\n",
    "\n",
    "\n",
    "    Table data_kepuasan = Table.read().csv(\"datasets/data_kepuasan.csv\");\n",
    "\n",
    "    Layout layout = Layout.builder().title(\"Distribution Pendapatan Rata-Rata\").build();\n",
    "  \n",
    "    HistogramTrace trace = HistogramTrace.builder(data_kepuasan.nCol(\"Pendapatan\")).build();\n",
    "  \n",
    "    Plot.show(new Figure(layout, trace));\n",
    "\n",
    "```"
   ]
  },
  {
   "cell_type": "code",
   "execution_count": 39,
   "metadata": {},
   "outputs": [
    {
     "name": "stdout",
     "output_type": "stream",
     "text": [
      "      data_kepuasan.csv summary       \n",
      " Jenis Kelamin  |  Sum [Pendapatan]  |\n",
      "--------------------------------------\n",
      "             1  |           4750000  |\n",
      "             2  |          18450000  |\n",
      "data_kepuasan.csv summary \n",
      " Produk  |  Sum [Total]  |\n",
      "--------------------------\n",
      "      A  |      1400000  |\n",
      "      D  |      4500000  |\n",
      "      B  |      2700000  |\n",
      "      E  |      3000000  |\n",
      "      C  |      2600000  |\n"
     ]
    },
    {
     "data": {
      "text/plain": [
       "null"
      ]
     },
     "execution_count": 39,
     "metadata": {},
     "output_type": "execute_result"
    }
   ],
   "source": [
    "import static tech.tablesaw.aggregate.AggregateFunctions.*;\n",
    "\n",
    "import tech.tablesaw.api.*;\n",
    "import tech.tablesaw.io.csv.*;\n",
    "\n",
    "import tech.tablesaw.plotly.Plot;\n",
    "import tech.tablesaw.plotly.api.HorizontalBarPlot;\n",
    "import tech.tablesaw.plotly.api.VerticalBarPlot;\n",
    "import tech.tablesaw.plotly.components.Figure;\n",
    "import tech.tablesaw.plotly.components.Layout;\n",
    "import tech.tablesaw.plotly.components.Marker;\n",
    "import tech.tablesaw.plotly.traces.BarTrace;\n",
    "import tech.tablesaw.plotly.traces.Trace;\n",
    "\n",
    "// display Tablesaw tables with BeakerX table display widget\n",
    "tech.tablesaw.beakerx.TablesawDisplayer.register();\n",
    "\n",
    "//init objek\n",
    "Table  dfData = Table.read().csv(\"datasets/data_kepuasan.csv\");\n",
    "\n",
    "Table summaryPendapatan =  dfData.summarize(\"Pendapatan\", sum).by(\"Jenis Kelamin\");;\n",
    "\n",
    "Table sumTotal =  dfData.summarize(\"Total\", sum).by(\"Produk\");\n",
    "\n",
    "System.out.println(summaryPendapatan.print());\n",
    "\n",
    "System.out.println(sumTotal.print());\n",
    "\n",
    "//Ploting grafik secara vertical \n",
    "Plot.show(\n",
    "        VerticalBarPlot.create(\n",
    "            \"Pendapatan\",\n",
    "            summaryPendapatan,\n",
    "            \"Jenis Kelamin\",\n",
    "            Layout.BarMode.GROUP,\n",
    "            \"Sum [Pendapatan]\"));\n",
    "\n",
    "//Ploting grafik secara horisontal \n",
    "  Plot.show(\n",
    "        HorizontalBarPlot.create(\n",
    "            \"Produk Terjual\",\n",
    "            sumTotal,\n",
    "            \"Produk\",\n",
    "            Layout.BarMode.STACK,\n",
    "            \"Sum [Total]\"));"
   ]
  },
  {
   "cell_type": "code",
   "execution_count": 6,
   "metadata": {},
   "outputs": [
    {
     "data": {
      "text/plain": [
       "null"
      ]
     },
     "execution_count": 6,
     "metadata": {},
     "output_type": "execute_result"
    }
   ],
   "source": [
    "import tech.tablesaw.api.Table;\n",
    "import tech.tablesaw.plotly.Plot;\n",
    "import tech.tablesaw.plotly.components.Figure;\n",
    "import tech.tablesaw.plotly.components.Layout;\n",
    "import tech.tablesaw.plotly.traces.HistogramTrace;\n",
    "\n",
    "\n",
    "    Table data_kepuasan = Table.read().csv(\"datasets/data_kepuasan.csv\");\n",
    "\n",
    "    Layout layout = Layout.builder().title(\"Distribution Pendapatan Rata-Rata\").build();\n",
    "\n",
    "    HistogramTrace trace = HistogramTrace.builder(data_kepuasan.nCol(\"Pendapatan\")).build();\n",
    "\n",
    "    Plot.show(new Figure(layout, trace));"
   ]
  },
  {
   "cell_type": "markdown",
   "metadata": {},
   "source": [
    "## Kesimpulan Analisis Deskriptif \n",
    "Dari hasil analisis deskriptif pada praktek sebelumnya kita mendapatkan:\n",
    "* Profil Pelanggan sebagai berikut:\n",
    " 1. Sebagian besar pelanggan adalah berjenis kelamin perempuan.\n",
    " 2. Rata-rata pendapatan pelanggan dalam sebulan adalah 875000 (tidak menggunakan ukuran pemusatan mean, karena pada grafik terdapat outlier. Sehinggan ukuran pemusatan yang dipakai adalah median).\n",
    " 3. Pelanggan sering membeli produk dalam jumlah 3-4 buah.\n",
    " 4. Rata-rata total belanja yang sering dihabiskan adalah 710000.\n",
    " 5. Kebanyakan pelanggan sangat puas kepada produk yang dijual.\n",
    "\n",
    "* Gambaran produk yang dijual sebagai berikut:\n",
    " 1. Produk yang sering dibeli adalah produk D.\n",
    " 2. Rata-rata harga produk yang terjual sebesar 197500.\n"
   ]
  },
  {
   "cell_type": "markdown",
   "metadata": {},
   "source": [
    "#### Latihan 13-1\n",
    " 1. Lakukan Eksekusi dari kode *Listing 13-1* dan *Listing 13-2*  pada pada bidang baris dibawah ini dan amatilah hasilnya\n",
    " 2. Modifikasilah *Listing 13-1* dan *Listing 13-2*  untuk carilah hal - hal berikut ini\n",
    "    * Sebaran data kolom Jenis.Kelamin dari variable data_kepuasan\n",
    "    * Sebaran data dari Pendapatan dari variable data_kepuasan\n",
    "    * Sebaran data dari Produk dari variable data_kepuasan\n",
    "    * Sebaran data dari Harga dari variable data_kepuasan\n",
    "    * Sebaran data dari Jumlah dari variable data_kepuasan\n",
    "    * Sebaran data dari Total dari variable data_kepuasan\n",
    "    * Sebaran data dari Tingkat.Kepuasan dari variable data_kepuasan\n"
   ]
  },
  {
   "cell_type": "code",
   "execution_count": 11,
   "metadata": {},
   "outputs": [
    {
     "name": "stdout",
     "output_type": "stream",
     "text": [
      "        Structure of data_kepuasan.csv        \n",
      " Index  |    Column Name     |  Column Type  |\n",
      "----------------------------------------------\n",
      "     0  |      ID Pelanggan  |      INTEGER  |\n",
      "     1  |              Nama  |       STRING  |\n",
      "     2  |     Jenis Kelamin  |      INTEGER  |\n",
      "     3  |        Pendapatan  |      INTEGER  |\n",
      "     4  |            Produk  |       STRING  |\n",
      "     5  |             Harga  |      INTEGER  |\n",
      "     6  |            Jumlah  |      INTEGER  |\n",
      "     7  |             Total  |      INTEGER  |\n",
      "     8  |  Tingkat Kepuasan  |      INTEGER  |\n",
      "  data_kepuasan.csv summary  \n",
      " Produk  |  Count [Produk]  |\n",
      "-----------------------------\n",
      "      A  |               4  |\n",
      "      B  |               4  |\n",
      "      C  |               4  |\n",
      "      D  |               5  |\n",
      "      E  |               3  |\n",
      "      data_kepuasan.csv summary       \n",
      " Jenis Kelamin  |  Sum [Pendapatan]  |\n",
      "--------------------------------------\n",
      "             1  |           4750000  |\n",
      "             2  |          18450000  |\n",
      "         data_kepuasan.csv summary         \n",
      " Jenis Kelamin  |  Count [Jenis Kelamin]  |\n",
      "-------------------------------------------\n",
      "             1  |                      6  |\n",
      "             2  |                     14  |\n"
     ]
    },
    {
     "data": {
      "text/plain": [
       "null"
      ]
     },
     "execution_count": 11,
     "metadata": {},
     "output_type": "execute_result"
    }
   ],
   "source": [
    "//Latihan 13-1\n",
    "import static tech.tablesaw.aggregate.AggregateFunctions.*;\n",
    "\n",
    "import tech.tablesaw.api.*;\n",
    "import tech.tablesaw.io.csv.*;\n",
    "\n",
    "import tech.tablesaw.plotly.Plot;\n",
    "import tech.tablesaw.plotly.api.HorizontalBarPlot;\n",
    "import tech.tablesaw.plotly.api.VerticalBarPlot;\n",
    "import tech.tablesaw.plotly.components.Figure;\n",
    "import tech.tablesaw.plotly.components.Layout;\n",
    "import tech.tablesaw.plotly.components.Marker;\n",
    "import tech.tablesaw.plotly.traces.BarTrace;\n",
    "import tech.tablesaw.plotly.traces.Trace;\n",
    "\n",
    "// display Tablesaw tables with BeakerX table display widget\n",
    "tech.tablesaw.beakerx.TablesawDisplayer.register();\n",
    "\n",
    "//init objek\n",
    "Table  dfData = Table.read().csv(\"datasets/data_kepuasan.csv\");\n",
    "\n",
    "System.out.println(dfData.structure());\n",
    "\n",
    "Table summaryPendapatan =  dfData.summarize(\"Pendapatan\", sum).by(\"Jenis Kelamin\");\n",
    "\n",
    "//Jenis Kelamin\n",
    "Table summaryJenisKelamin = dfData.summarize(\"Jenis Kelamin\", count).by(\"Jenis Kelamin\");\n",
    "//Produk\n",
    "Table summaryProduk = dfData.summarize(\"Produk\", count).by(\"Produk\").sortAscendingOn(\"Produk\");\n",
    "System.out.println(summaryProduk.print());\n",
    "//Harga\n",
    "Table harga=dfData.sortAscendingOn(\"Nama\");\n",
    "\n",
    "Table sumTotal =  dfData.summarize(\"Total\", count).by(\"Produk\");\n",
    "\n",
    "System.out.println(summaryPendapatan.print());\n",
    "System.out.println(summaryJenisKelamin.print());\n",
    "\n",
    "//System.out.println(sumTotal.print());\n",
    "\n",
    "//Ploting grafik secara vertical \n",
    "Plot.show(\n",
    "        VerticalBarPlot.create(\n",
    "            \"Pendapatan\",\n",
    "            summaryPendapatan,\n",
    "            \"Jenis Kelamin\",\n",
    "            Layout.BarMode.GROUP,\n",
    "            \"Sum [Pendapatan]\"));\n",
    "\n",
    "//Jenis Kelamin\n",
    "Plot.show(\n",
    "        VerticalBarPlot.create(\n",
    "            \"Jenis Kelamin\",\n",
    "            summaryJenisKelamin,\n",
    "            \"Jenis Kelamin\",\n",
    "            Layout.BarMode.GROUP,\n",
    "            \"Count [Jenis Kelamin]\"));\n",
    "\n",
    "Plot.show(\n",
    "        VerticalBarPlot.create(\n",
    "            \"Jenis Produk\",\n",
    "            summaryProduk,\n",
    "            \"Produk\",\n",
    "            Layout.BarMode.GROUP,\n",
    "            \"Count [Produk]\") \n",
    "        );\n",
    "Plot.show(\n",
    "        VerticalBarPlot.create(\n",
    "            \"Harga\",\n",
    "            harga,\n",
    "            \"Nama\",\n",
    "            Layout.BarMode.GROUP,\n",
    "            \"Harga\") \n",
    "        );"
   ]
  }
 ],
 "metadata": {
  "kernelspec": {
   "display_name": "Java",
   "language": "java",
   "name": "java"
  },
  "language_info": {
   "codemirror_mode": "text/x-java",
   "file_extension": ".java",
   "mimetype": "",
   "name": "Java",
   "nbconverter_exporter": "",
   "version": "1.8.0_121"
  },
  "toc": {
   "base_numbering": 1,
   "nav_menu": {},
   "number_sections": false,
   "sideBar": false,
   "skip_h1_title": false,
   "title_cell": "Table of Contents",
   "title_sidebar": "Contents",
   "toc_cell": false,
   "toc_position": {},
   "toc_section_display": false,
   "toc_window_display": false
  }
 },
 "nbformat": 4,
 "nbformat_minor": 2
}
